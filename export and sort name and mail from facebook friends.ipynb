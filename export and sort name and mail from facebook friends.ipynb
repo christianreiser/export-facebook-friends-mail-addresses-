{
 "cells": [
  {
   "cell_type": "code",
   "execution_count": 2,
   "metadata": {
    "collapsed": false,
    "deletable": true,
    "editable": true
   },
   "outputs": [
    {
     "name": "stdout",
     "output_type": "stream",
     "text": [
      "----------------------------------------------------------------------------------------------------\n",
      "----------------------------------------------------------------------------------------------------\n",
      "----------------------MAILS-------------------------------------------------------------------------\n",
      "----------------------------------------------------------------------------------------------------\n",
      "----------------------------------------------------------------------------------------------------\n"
     ]
    }
   ],
   "source": [
    "import csv\n",
    "\n",
    "file= 'contacts.csv' # this is the csv file with the names and mail adresses\n",
    "samples = []\n",
    "# read in the csv file with all names and email adresses and save them in a string\n",
    "with open(file) as csvfile:\n",
    "    reader = csv.reader(csvfile)\n",
    "    for line in reader:\n",
    "        if len(line) ==1: # skip empty lines\n",
    "            samples.append(line) # the string contains names and email adresses\n",
    "\n",
    "a='@'\n",
    "names=[]\n",
    "mails=[]\n",
    "n_samples=len(samples)\n",
    "\n",
    "for i in range(n_samples-1): #\n",
    "    sample=samples[i]\n",
    "    nextone=samples[i+1] # after the name should be the email address\n",
    "    sample=sample[0]\n",
    "    nextone=nextone[0]    \n",
    "    \n",
    "    if a not in sample and a in nextone: # if one entry is a name and the other a email adress\n",
    "        names.append(sample)  # append the name to the string names \n",
    "        mails.append(nextone) # append the email address to the string mails \n",
    "        \n",
    "#print all names\n",
    "for name in names:\n",
    "    print(name)\n",
    "\n",
    "# seperate names from email adresses\n",
    "print('----------------------------------------------------------------------------------------------------')\n",
    "print('----------------------------------------------------------------------------------------------------')\n",
    "print('----------------------MAILS-------------------------------------------------------------------------')\n",
    "print('----------------------------------------------------------------------------------------------------')\n",
    "print('----------------------------------------------------------------------------------------------------')\n",
    "\n",
    "#print all email adresses\n",
    "for mail in mails:\n",
    "    print(mail)"
   ]
  }
 ],
 "metadata": {
  "kernelspec": {
   "display_name": "Python 3",
   "language": "python",
   "name": "python3"
  },
  "language_info": {
   "codemirror_mode": {
    "name": "ipython",
    "version": 3
   },
   "file_extension": ".py",
   "mimetype": "text/x-python",
   "name": "python",
   "nbconvert_exporter": "python",
   "pygments_lexer": "ipython3",
   "version": "3.5.2"
  },
  "widgets": {
   "state": {},
   "version": "1.1.2"
  }
 },
 "nbformat": 4,
 "nbformat_minor": 2
}
